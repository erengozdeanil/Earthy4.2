{
 "cells": [
  {
   "cell_type": "code",
   "execution_count": 3,
   "metadata": {},
   "outputs": [],
   "source": [
    "# List of definitions\n",
    "\n"
   ]
  },
  {
   "cell_type": "code",
   "execution_count": 4,
   "metadata": {},
   "outputs": [
    {
     "name": "stdout",
     "output_type": "stream",
     "text": [
      "edges is ((0, 1), (1, 2), (2, 3), (3, 0), (3, 4), (4, 5), (3, 5))\n",
      "{0: [1, 3], 1: [0, 2], 2: [1, 3], 3: [2, 0, 4, 5], 4: [3, 5], 5: [4, 3]}\n"
     ]
    }
   ],
   "source": [
    "import networkx as nx\n",
    "import copy\n",
    "G = nx.Graph()\n",
    "\n",
    "nodes = {\n",
    "    0: {\"name\":0,\"type\":None,\"use_frequency\":\"D\", \"units\":None,\"tag\":0},\n",
    "    1: {\"name\":1,\"type\":\"S\",\"use_frequency\":\"D\", \"units\":\"3\",\"tag\":\"Chris\"},\n",
    "    2: {\"name\":2,\"type\":\"S\",\"use_frequency\":\"D\", \"units\":\"3\",\"tag\":\"Roy\"},\n",
    "    3: {\"name\":3,\"type\":\"S\",\"use_frequency\":\"D\", \"units\":\"3\",\"tag\":\"Eren\"},\n",
    "    4: {\"name\":4,\"type\":\"S\",\"use_frequency\":\"D\", \"units\":\"3\",\"tag\":\"Felipe\"},\n",
    "    5: {\"name\":5,\"type\":\"S\",\"use_frequency\":\"D\", \"units\":\"3\",\"tag\":\"Jun\"}\n",
    "}\n",
    "\n",
    "k = list(nodes.keys())\n",
    "G.add_nodes_from(k)\n",
    "\n",
    "edges= ((nodes[0]['name'],nodes[1]['name']),(nodes[1]['name'],nodes[2]['name']),(nodes[2]['name'],nodes[3]['name']),(nodes[3]['name'],nodes[0]['name']),(nodes[3]['name'],nodes[4]['name']), (nodes[4]['name'],nodes[5]['name']), (nodes[3]['name'],nodes[5]['name']))\n",
    "\n",
    "print(\"edges is\", edges)\n",
    "G.add_edges_from(edges)\n",
    "# nx.draw_networkx(G)\n",
    "\n",
    "edge_dict = {}\n",
    "\n",
    "adj = G.adjacency()\n",
    "\n",
    "def create_edge_dict(graph):\n",
    "    for i, n in G.adjacency():\n",
    "        edge_dict[i] = list(n)\n",
    "    return edge_dict\n",
    "\n",
    "edge_dict = create_edge_dict(G)\n",
    "print(edge_dict)"
   ]
  },
  {
   "cell_type": "code",
   "execution_count": 5,
   "metadata": {},
   "outputs": [
    {
     "name": "stdout",
     "output_type": "stream",
     "text": [
      "{2: [1, 3], 4: [3, 5], 5: [4, 3]}\n"
     ]
    }
   ],
   "source": [
    "#remove street node function\n",
    "def remove_street_node(nodes_dict, edge_dict, street_node):\n",
    "    #nodes_dict: Nested dictionary with nodes as keys and its attributes(dict) as values\n",
    "    #edge_dict: Dict, key as Nodes, Values as all nodes connected to Nodes\n",
    "    #street_node: As list of nodes representing the streets\n",
    "    \n",
    "    edge_dict_streetless = edge_dict.copy()\n",
    "    k = list(nodes_dict.keys())\n",
    "    for i in k:\n",
    "        #for every node in the grid\n",
    "        for street in street_node:\n",
    "            #for every street nodes in the street_node list\n",
    "\n",
    "            if street in edge_dict[i]:\n",
    "                #if a street node lies in the list of edges within edge_dict\n",
    "                edge_dict_streetless.pop(i, None)\n",
    "            \n",
    "            elif street == i:\n",
    "                #delete itself because it is a street node\n",
    "                edge_dict_streetless.pop(i, None)\n",
    "\n",
    "    return edge_dict_streetless\n",
    "\n",
    "edge_dict_streetless = remove_street_node(nodes, edge_dict, [0])\n",
    "\n",
    "print(edge_dict_streetless)"
   ]
  },
  {
   "cell_type": "code",
   "execution_count": 6,
   "metadata": {},
   "outputs": [
    {
     "ename": "FileNotFoundError",
     "evalue": "[Errno 2] No such file or directory: 'Earthy_ConnAction.xlsx'",
     "output_type": "error",
     "traceback": [
      "\u001b[1;31m---------------------------------------------------------------------------\u001b[0m",
      "\u001b[1;31mFileNotFoundError\u001b[0m                         Traceback (most recent call last)",
      "\u001b[1;32m<ipython-input-6-e6adcf7e3a29>\u001b[0m in \u001b[0;36m<module>\u001b[1;34m\u001b[0m\n\u001b[0;32m      2\u001b[0m \u001b[1;33m\u001b[0m\u001b[0m\n\u001b[0;32m      3\u001b[0m \u001b[1;32mfrom\u001b[0m \u001b[0mopenpyxl\u001b[0m \u001b[1;32mimport\u001b[0m \u001b[0mload_workbook\u001b[0m\u001b[1;33m\u001b[0m\u001b[1;33m\u001b[0m\u001b[0m\n\u001b[1;32m----> 4\u001b[1;33m \u001b[0mworkbook\u001b[0m \u001b[1;33m=\u001b[0m \u001b[0mload_workbook\u001b[0m\u001b[1;33m(\u001b[0m\u001b[0mfilename\u001b[0m\u001b[1;33m=\u001b[0m\u001b[1;34m\"Earthy_ConnAction.xlsx\"\u001b[0m\u001b[1;33m)\u001b[0m\u001b[1;33m\u001b[0m\u001b[1;33m\u001b[0m\u001b[0m\n\u001b[0m\u001b[0;32m      5\u001b[0m \u001b[0mworkbook\u001b[0m\u001b[1;33m.\u001b[0m\u001b[0msheetnames\u001b[0m\u001b[1;33m\u001b[0m\u001b[1;33m\u001b[0m\u001b[0m\n\u001b[0;32m      6\u001b[0m \u001b[1;33m\u001b[0m\u001b[0m\n",
      "\u001b[1;32mC:\\ProgramData\\Anaconda3\\lib\\site-packages\\openpyxl\\reader\\excel.py\u001b[0m in \u001b[0;36mload_workbook\u001b[1;34m(filename, read_only, keep_vba, data_only, keep_links)\u001b[0m\n\u001b[0;32m    313\u001b[0m \u001b[1;33m\u001b[0m\u001b[0m\n\u001b[0;32m    314\u001b[0m     \"\"\"\n\u001b[1;32m--> 315\u001b[1;33m     reader = ExcelReader(filename, read_only, keep_vba,\n\u001b[0m\u001b[0;32m    316\u001b[0m                         data_only, keep_links)\n\u001b[0;32m    317\u001b[0m     \u001b[0mreader\u001b[0m\u001b[1;33m.\u001b[0m\u001b[0mread\u001b[0m\u001b[1;33m(\u001b[0m\u001b[1;33m)\u001b[0m\u001b[1;33m\u001b[0m\u001b[1;33m\u001b[0m\u001b[0m\n",
      "\u001b[1;32mC:\\ProgramData\\Anaconda3\\lib\\site-packages\\openpyxl\\reader\\excel.py\u001b[0m in \u001b[0;36m__init__\u001b[1;34m(self, fn, read_only, keep_vba, data_only, keep_links)\u001b[0m\n\u001b[0;32m    122\u001b[0m     def __init__(self,  fn, read_only=False, keep_vba=KEEP_VBA,\n\u001b[0;32m    123\u001b[0m                   data_only=False, keep_links=True):\n\u001b[1;32m--> 124\u001b[1;33m         \u001b[0mself\u001b[0m\u001b[1;33m.\u001b[0m\u001b[0marchive\u001b[0m \u001b[1;33m=\u001b[0m \u001b[0m_validate_archive\u001b[0m\u001b[1;33m(\u001b[0m\u001b[0mfn\u001b[0m\u001b[1;33m)\u001b[0m\u001b[1;33m\u001b[0m\u001b[1;33m\u001b[0m\u001b[0m\n\u001b[0m\u001b[0;32m    125\u001b[0m         \u001b[0mself\u001b[0m\u001b[1;33m.\u001b[0m\u001b[0mvalid_files\u001b[0m \u001b[1;33m=\u001b[0m \u001b[0mself\u001b[0m\u001b[1;33m.\u001b[0m\u001b[0marchive\u001b[0m\u001b[1;33m.\u001b[0m\u001b[0mnamelist\u001b[0m\u001b[1;33m(\u001b[0m\u001b[1;33m)\u001b[0m\u001b[1;33m\u001b[0m\u001b[1;33m\u001b[0m\u001b[0m\n\u001b[0;32m    126\u001b[0m         \u001b[0mself\u001b[0m\u001b[1;33m.\u001b[0m\u001b[0mread_only\u001b[0m \u001b[1;33m=\u001b[0m \u001b[0mread_only\u001b[0m\u001b[1;33m\u001b[0m\u001b[1;33m\u001b[0m\u001b[0m\n",
      "\u001b[1;32mC:\\ProgramData\\Anaconda3\\lib\\site-packages\\openpyxl\\reader\\excel.py\u001b[0m in \u001b[0;36m_validate_archive\u001b[1;34m(filename)\u001b[0m\n\u001b[0;32m     94\u001b[0m             \u001b[1;32mraise\u001b[0m \u001b[0mInvalidFileException\u001b[0m\u001b[1;33m(\u001b[0m\u001b[0mmsg\u001b[0m\u001b[1;33m)\u001b[0m\u001b[1;33m\u001b[0m\u001b[1;33m\u001b[0m\u001b[0m\n\u001b[0;32m     95\u001b[0m \u001b[1;33m\u001b[0m\u001b[0m\n\u001b[1;32m---> 96\u001b[1;33m     \u001b[0marchive\u001b[0m \u001b[1;33m=\u001b[0m \u001b[0mZipFile\u001b[0m\u001b[1;33m(\u001b[0m\u001b[0mfilename\u001b[0m\u001b[1;33m,\u001b[0m \u001b[1;34m'r'\u001b[0m\u001b[1;33m)\u001b[0m\u001b[1;33m\u001b[0m\u001b[1;33m\u001b[0m\u001b[0m\n\u001b[0m\u001b[0;32m     97\u001b[0m     \u001b[1;32mreturn\u001b[0m \u001b[0marchive\u001b[0m\u001b[1;33m\u001b[0m\u001b[1;33m\u001b[0m\u001b[0m\n\u001b[0;32m     98\u001b[0m \u001b[1;33m\u001b[0m\u001b[0m\n",
      "\u001b[1;32mC:\\ProgramData\\Anaconda3\\lib\\zipfile.py\u001b[0m in \u001b[0;36m__init__\u001b[1;34m(self, file, mode, compression, allowZip64, compresslevel, strict_timestamps)\u001b[0m\n\u001b[0;32m   1249\u001b[0m             \u001b[1;32mwhile\u001b[0m \u001b[1;32mTrue\u001b[0m\u001b[1;33m:\u001b[0m\u001b[1;33m\u001b[0m\u001b[1;33m\u001b[0m\u001b[0m\n\u001b[0;32m   1250\u001b[0m                 \u001b[1;32mtry\u001b[0m\u001b[1;33m:\u001b[0m\u001b[1;33m\u001b[0m\u001b[1;33m\u001b[0m\u001b[0m\n\u001b[1;32m-> 1251\u001b[1;33m                     \u001b[0mself\u001b[0m\u001b[1;33m.\u001b[0m\u001b[0mfp\u001b[0m \u001b[1;33m=\u001b[0m \u001b[0mio\u001b[0m\u001b[1;33m.\u001b[0m\u001b[0mopen\u001b[0m\u001b[1;33m(\u001b[0m\u001b[0mfile\u001b[0m\u001b[1;33m,\u001b[0m \u001b[0mfilemode\u001b[0m\u001b[1;33m)\u001b[0m\u001b[1;33m\u001b[0m\u001b[1;33m\u001b[0m\u001b[0m\n\u001b[0m\u001b[0;32m   1252\u001b[0m                 \u001b[1;32mexcept\u001b[0m \u001b[0mOSError\u001b[0m\u001b[1;33m:\u001b[0m\u001b[1;33m\u001b[0m\u001b[1;33m\u001b[0m\u001b[0m\n\u001b[0;32m   1253\u001b[0m                     \u001b[1;32mif\u001b[0m \u001b[0mfilemode\u001b[0m \u001b[1;32min\u001b[0m \u001b[0mmodeDict\u001b[0m\u001b[1;33m:\u001b[0m\u001b[1;33m\u001b[0m\u001b[1;33m\u001b[0m\u001b[0m\n",
      "\u001b[1;31mFileNotFoundError\u001b[0m: [Errno 2] No such file or directory: 'Earthy_ConnAction.xlsx'"
     ]
    }
   ],
   "source": [
    "# Retrieve data from survey excel\n",
    "\n",
    "from openpyxl import load_workbook\n",
    "workbook = load_workbook(filename=\"Earthy_ConnAction.xlsx\")\n",
    "workbook.sheetnames\n",
    "\n",
    "nodes = {}\n",
    "\n",
    "sheet = workbook.active\n",
    "sheet\n",
    "\n",
    "# Create list with required data\n",
    "\n",
    "p_list=[]\n",
    "\n",
    "for value in sheet.iter_rows(min_row=3,\n",
    "                             min_col=6,\n",
    "                             values_only=True):\n",
    "    if value[3] != None and value[1] != None and value[2] != None:\n",
    "        new_value=[int(value[2]), value[1], value[0], int(int(value[3])/9), value[4]]\n",
    "        if new_value[2]==\"Shop\":\n",
    "            new_value[2]=\"1\"\n",
    "        elif new_value[2]==\"Workshop\":\n",
    "            new_value[2]=\"3\"\n",
    "        elif new_value[2]==\"Both shop and workshop\":\n",
    "            new_value[2]=\"2\"\n",
    "        if new_value[1]==\"Daily\":\n",
    "            new_value[1]=\"D\"\n",
    "        elif new_value[1]==\"Monthly\":\n",
    "            new_value[1]=\"M\"\n",
    "        elif new_value[1]==\"Occationally\":\n",
    "            new_value[1]=\"O\"\n",
    "    \n",
    "        p_list.append(tuple(new_value))\n",
    "\n",
    "p_list.sort()\n",
    "\n",
    "print(p_list)"
   ]
  },
  {
   "cell_type": "code",
   "execution_count": null,
   "metadata": {},
   "outputs": [
    {
     "name": "stdout",
     "output_type": "stream",
     "text": [
      "{0: {'name': 0, 'district': 1, 'use_frequency': 'D', 'type': '1', 'units': 1, 'tag': 'Roy'}, 1: {'name': 1, 'district': 1, 'use_frequency': 'D', 'type': '1', 'units': 2, 'tag': 'Mary'}, 2: {'name': 2, 'district': 1, 'use_frequency': 'D', 'type': '3', 'units': 2, 'tag': 'John'}, 3: {'name': 3, 'district': 1, 'use_frequency': 'M', 'type': '2', 'units': 2, 'tag': 'Ali'}, 4: {'name': 4, 'district': 1, 'use_frequency': 'O', 'type': '3', 'units': 4, 'tag': 'Mohammed'}, 5: {'name': 5, 'district': 2, 'use_frequency': 'M', 'type': '1', 'units': 1, 'tag': 'Henk'}, 6: {'name': 6, 'district': 2, 'use_frequency': 'M', 'type': '1', 'units': 2, 'tag': 'Jacob'}, 7: {'name': 7, 'district': 7, 'use_frequency': 'D', 'type': '2', 'units': 3, 'tag': 'Ali'}, 8: {'name': 8, 'district': 9, 'use_frequency': 'D', 'type': '2', 'units': 4, 'tag': 'Bierocracy'}, 9: {'name': 9, 'district': 12, 'use_frequency': 'D', 'type': '1', 'units': 3, 'tag': 'Floor'}}\n"
     ]
    }
   ],
   "source": [
    "# Create a dictionairy from survey\n",
    "\n",
    "user_req = {}\n",
    "\n",
    "for i in range(len(p_list)):\n",
    "\n",
    "    value = {}\n",
    "    value[\"name\"] = len(user_req)\n",
    "    value[\"district\"] = p_list[i][0]\n",
    "    value[\"use_frequency\"] = p_list[i][1]\n",
    "    value[\"type\"] = p_list[i][2]\n",
    "    value[\"units\"] = p_list[i][3]\n",
    "    value[\"tag\"] = p_list[i][4]\n",
    "    user_req[i] = value\n",
    "\n",
    "print(user_req)\n"
   ]
  },
  {
   "cell_type": "code",
   "execution_count": null,
   "metadata": {},
   "outputs": [
    {
     "name": "stdout",
     "output_type": "stream",
     "text": [
      "[{'name': 1, 'district': 1, 'use_frequency': 'D', 'type': '1', 'units': 2, 'tag': 'Mary'}, {'name': 0, 'district': 1, 'use_frequency': 'D', 'type': '1', 'units': 1, 'tag': 'Roy'}, {'name': 3, 'district': 1, 'use_frequency': 'M', 'type': '2', 'units': 2, 'tag': 'Ali'}, {'name': 2, 'district': 1, 'use_frequency': 'D', 'type': '3', 'units': 2, 'tag': 'John'}, {'name': 4, 'district': 1, 'use_frequency': 'O', 'type': '3', 'units': 4, 'tag': 'Mohammed'}, {'name': 6, 'district': 2, 'use_frequency': 'M', 'type': '1', 'units': 2, 'tag': 'Jacob'}, {'name': 5, 'district': 2, 'use_frequency': 'M', 'type': '1', 'units': 1, 'tag': 'Henk'}, {'name': 7, 'district': 7, 'use_frequency': 'D', 'type': '2', 'units': 3, 'tag': 'Ali'}, {'name': 8, 'district': 9, 'use_frequency': 'D', 'type': '2', 'units': 4, 'tag': 'Bierocracy'}, {'name': 9, 'district': 12, 'use_frequency': 'D', 'type': '1', 'units': 3, 'tag': 'Floor'}]\n"
     ]
    }
   ],
   "source": [
    "# Sort the dictionairy as a list based on rules\n",
    "\n",
    "dict_user_req = list(user_req.values())\n",
    "\n",
    "user_req_list = sorted(dict_user_req, key=lambda d: (d['district'], d['type'], d['use_frequency'], -d['units']))\n",
    "\n",
    "print(user_req_list)"
   ]
  },
  {
   "cell_type": "code",
   "execution_count": null,
   "metadata": {},
   "outputs": [
    {
     "name": "stdout",
     "output_type": "stream",
     "text": [
      "{1: {'name': 1, 'district': 1, 'use_frequency': 'D', 'type': '1', 'units': 2, 'tag': 'Mary'}, 0: {'name': 0, 'district': 1, 'use_frequency': 'D', 'type': '1', 'units': 1, 'tag': 'Roy'}, 3: {'name': 3, 'district': 1, 'use_frequency': 'M', 'type': '2', 'units': 2, 'tag': 'Ali'}, 2: {'name': 2, 'district': 1, 'use_frequency': 'D', 'type': '3', 'units': 2, 'tag': 'John'}, 4: {'name': 4, 'district': 1, 'use_frequency': 'O', 'type': '3', 'units': 4, 'tag': 'Mohammed'}, 6: {'name': 6, 'district': 2, 'use_frequency': 'M', 'type': '1', 'units': 2, 'tag': 'Jacob'}, 5: {'name': 5, 'district': 2, 'use_frequency': 'M', 'type': '1', 'units': 1, 'tag': 'Henk'}, 7: {'name': 7, 'district': 7, 'use_frequency': 'D', 'type': '2', 'units': 3, 'tag': 'Ali'}, 8: {'name': 8, 'district': 9, 'use_frequency': 'D', 'type': '2', 'units': 4, 'tag': 'Bierocracy'}, 9: {'name': 9, 'district': 12, 'use_frequency': 'D', 'type': '1', 'units': 3, 'tag': 'Floor'}}\n"
     ]
    }
   ],
   "source": [
    "# create dictionairy from list again\n",
    "\n",
    "sorted_user_req = {}\n",
    "\n",
    "for item in user_req_list:\n",
    "    sorted_user_req[item['name']] = item\n",
    "\n",
    "print(sorted_user_req)"
   ]
  },
  {
   "cell_type": "markdown",
   "metadata": {},
   "source": [
    "End of survey code"
   ]
  },
  {
   "cell_type": "code",
   "execution_count": null,
   "metadata": {},
   "outputs": [
    {
     "name": "stdout",
     "output_type": "stream",
     "text": [
      "{0: {'name': 0, 'district': 1, 'type': None, 'use_frequency': 'D', 'units': None, 'tag': None}, 1: {'name': 1, 'district': 1, 'type': None, 'use_frequency': 'M', 'units': None, 'tag': None}, 2: {'name': 2, 'district': 2, 'type': None, 'use_frequency': 'M', 'units': None, 'tag': None}, 3: {'name': 3, 'district': 9, 'type': None, 'use_frequency': 'D', 'units': None, 'tag': None}}\n"
     ]
    }
   ],
   "source": [
    "# Sort the data from Jun\n",
    "\n",
    "dum_available = {0: {'name': 0, 'district': 1, 'type': None, 'use_frequency': 'D', 'units': None, 'tag': None}, 1: {'name': 1, 'district': 1, 'type': None, 'use_frequency': 'M', 'units': None, 'tag': None}, 2: {'name': 2, 'district': 2, 'type': None, 'use_frequency': 'M', 'units': None, 'tag': None}, 3: {'name': 3, 'district': 9, 'type': None, 'use_frequency': 'D', 'units': None, 'tag': None}}\n",
    "\n",
    "# nodes_list_values = list(dum_available.values())\n",
    "\n",
    "# nodes_list_keys = list(dum_available.values())\n",
    "\n",
    "# nodes_list = sorted(nodes_list_values, key=lambda d: (d['district'], d['use_frequency']))\n",
    "\n",
    "# print(nodes_list)\n",
    "\n",
    "print(dum_available)"
   ]
  },
  {
   "cell_type": "code",
   "execution_count": null,
   "metadata": {},
   "outputs": [
    {
     "name": "stdout",
     "output_type": "stream",
     "text": [
      "Original Nodes list: {0: {'name': 0, 'district': 1, 'type': None, 'use_frequency': 'D', 'units': None, 'tag': None}, 1: {'name': 1, 'district': 1, 'type': None, 'use_frequency': 'M', 'units': None, 'tag': None}, 2: {'name': 2, 'district': 2, 'type': None, 'use_frequency': 'M', 'units': None, 'tag': None}, 3: {'name': 3, 'district': 9, 'type': None, 'use_frequency': 'D', 'units': None, 'tag': None}}\n",
      "Req List: {1: {'name': 1, 'district': 1, 'use_frequency': 'D', 'type': '1', 'units': 2, 'tag': 'Mary'}, 0: {'name': 0, 'district': 1, 'use_frequency': 'D', 'type': '1', 'units': 1, 'tag': 'Roy'}, 3: {'name': 3, 'district': 1, 'use_frequency': 'M', 'type': '2', 'units': 2, 'tag': 'Ali'}, 2: {'name': 2, 'district': 1, 'use_frequency': 'D', 'type': '3', 'units': 2, 'tag': 'John'}, 4: {'name': 4, 'district': 1, 'use_frequency': 'O', 'type': '3', 'units': 4, 'tag': 'Mohammed'}, 6: {'name': 6, 'district': 2, 'use_frequency': 'M', 'type': '1', 'units': 2, 'tag': 'Jacob'}, 5: {'name': 5, 'district': 2, 'use_frequency': 'M', 'type': '1', 'units': 1, 'tag': 'Henk'}, 7: {'name': 7, 'district': 7, 'use_frequency': 'D', 'type': '2', 'units': 3, 'tag': 'Ali'}, 8: {'name': 8, 'district': 9, 'use_frequency': 'D', 'type': '2', 'units': 4, 'tag': 'Bierocracy'}, 9: {'name': 9, 'district': 12, 'use_frequency': 'D', 'type': '1', 'units': 3, 'tag': 'Floor'}}\n"
     ]
    },
    {
     "ename": "KeyError",
     "evalue": "0",
     "output_type": "error",
     "traceback": [
      "\u001b[1;31m---------------------------------------------------------------------------\u001b[0m",
      "\u001b[1;31mKeyError\u001b[0m                                  Traceback (most recent call last)",
      "\u001b[1;32m<ipython-input-12-bd438427763c>\u001b[0m in \u001b[0;36m<module>\u001b[1;34m\u001b[0m\n\u001b[0;32m     36\u001b[0m                     \u001b[1;32mfor\u001b[0m \u001b[0mlen\u001b[0m \u001b[1;32min\u001b[0m \u001b[0mrange\u001b[0m\u001b[1;33m(\u001b[0m\u001b[0msorted_user_req\u001b[0m\u001b[1;33m[\u001b[0m\u001b[0mi\u001b[0m\u001b[1;33m]\u001b[0m\u001b[1;33m[\u001b[0m\u001b[1;34m'units'\u001b[0m\u001b[1;33m]\u001b[0m\u001b[1;33m)\u001b[0m\u001b[1;33m:\u001b[0m\u001b[1;33m\u001b[0m\u001b[1;33m\u001b[0m\u001b[0m\n\u001b[0;32m     37\u001b[0m                         \u001b[0mnumber\u001b[0m \u001b[1;33m=\u001b[0m \u001b[0mdum_available\u001b[0m\u001b[1;33m[\u001b[0m\u001b[0mx\u001b[0m\u001b[1;33m]\u001b[0m\u001b[1;33m[\u001b[0m\u001b[1;34m'name'\u001b[0m\u001b[1;33m]\u001b[0m\u001b[1;33m\u001b[0m\u001b[1;33m\u001b[0m\u001b[0m\n\u001b[1;32m---> 38\u001b[1;33m                         \u001b[0mnumber2\u001b[0m \u001b[1;33m=\u001b[0m \u001b[0mmin\u001b[0m\u001b[1;33m(\u001b[0m\u001b[0medge_dict_streetless\u001b[0m\u001b[1;33m[\u001b[0m\u001b[0mnumber\u001b[0m\u001b[1;33m]\u001b[0m\u001b[1;33m)\u001b[0m\u001b[1;33m\u001b[0m\u001b[1;33m\u001b[0m\u001b[0m\n\u001b[0m\u001b[0;32m     39\u001b[0m                         \u001b[0mdum_available\u001b[0m\u001b[1;33m[\u001b[0m\u001b[0mnumber2\u001b[0m\u001b[1;33m]\u001b[0m\u001b[1;33m[\u001b[0m\u001b[1;34m'type'\u001b[0m\u001b[1;33m]\u001b[0m \u001b[1;33m=\u001b[0m \u001b[0msorted_user_req\u001b[0m\u001b[1;33m[\u001b[0m\u001b[0mi\u001b[0m\u001b[1;33m]\u001b[0m\u001b[1;33m[\u001b[0m\u001b[1;34m'type'\u001b[0m\u001b[1;33m]\u001b[0m\u001b[1;33m\u001b[0m\u001b[1;33m\u001b[0m\u001b[0m\n\u001b[0;32m     40\u001b[0m                         \u001b[0mdum_available\u001b[0m\u001b[1;33m[\u001b[0m\u001b[0mnumber2\u001b[0m\u001b[1;33m]\u001b[0m\u001b[1;33m[\u001b[0m\u001b[1;34m'units'\u001b[0m\u001b[1;33m]\u001b[0m \u001b[1;33m=\u001b[0m \u001b[0msorted_user_req\u001b[0m\u001b[1;33m[\u001b[0m\u001b[0mi\u001b[0m\u001b[1;33m]\u001b[0m\u001b[1;33m[\u001b[0m\u001b[1;34m'units'\u001b[0m\u001b[1;33m]\u001b[0m\u001b[1;33m\u001b[0m\u001b[1;33m\u001b[0m\u001b[0m\n",
      "\u001b[1;31mKeyError\u001b[0m: 0"
     ]
    }
   ],
   "source": [
    "# Check if the user requirements match with available nodes \n",
    "\n",
    "print('Original Nodes list:', dum_available)\n",
    "print('Req List:', sorted_user_req)\n",
    "\n",
    "occu_nodes = {}\n",
    "avai_nodes = {}\n",
    "daily_layers = 3\n",
    "monthly_layers = 5\n",
    "\n",
    "for i in sorted_user_req:\n",
    "    # print(i)\n",
    "    req_frequency = sorted_user_req[i]['use_frequency']\n",
    "    req_district = sorted_user_req[i]['district']\n",
    "    counter = 0\n",
    "\n",
    "# Redefine nodes dict with sorted user requirements\n",
    "\n",
    "    for x in dum_available:\n",
    "        if sorted_user_req[i]['units'] == 1:\n",
    "            if req_frequency == dum_available[x]['use_frequency'] and req_district == dum_available[x]['district'] and counter == 0 and dum_available[x]['tag'] == None:\n",
    "                dum_available[x]['type'] = sorted_user_req[i]['type']\n",
    "                dum_available[x]['units'] = sorted_user_req[i]['units']\n",
    "                dum_available[x]['tag'] = sorted_user_req[i]['tag']\n",
    "                counter +=1\n",
    "                print('added to list', sorted_user_req[i])\n",
    "            else:\n",
    "                # print('omitted')\n",
    "                pass\n",
    "\n",
    "# If more units are needed: take key units value and find neightbor nodes to place following module\n",
    "\n",
    "        else:\n",
    "            if req_frequency == dum_available[x]['use_frequency']=='D' and req_district == dum_available[x]['district'] and counter == 0 and dum_available[x]['tag'] == None:\n",
    "                if sorted_user_req[i]['units'] <= daily_layers:\n",
    "                    for len in range(sorted_user_req[i]['units']):\n",
    "                        number = dum_available[x]['name']\n",
    "                        number2 = min(edge_dict_streetless[number])\n",
    "                        dum_available[number2]['type'] = sorted_user_req[i]['type']\n",
    "                        dum_available[number2]['units'] = sorted_user_req[i]['units']\n",
    "                        dum_available[number2]['tag'] = sorted_user_req[i]['tag']\n",
    "                        counter +=1\n",
    "                else:\n",
    "                    for len in range(sorted_user_req[i]['units']):\n",
    "                        if counter < daily_layers:\n",
    "                            number = dum_available[x]['name']\n",
    "                            number2 = edge_dict[number][0]\n",
    "                            dum_available[number2]['type'] = sorted_user_req[i]['type']\n",
    "                            dum_available[number2]['units'] = sorted_user_req[i]['units']\n",
    "                            dum_available[number2]['tag'] = sorted_user_req[i]['tag']\n",
    "                            counter +=1\n",
    "                        else:\n",
    "                            number = dum_available[x]['name']\n",
    "                            number2 = min(edge_dict[number])\n",
    "                            dum_available[number2]['type'] = sorted_user_req[i]['type']\n",
    "                            dum_available[number2]['units'] = sorted_user_req[i]['units']\n",
    "                            dum_available[number2]['tag'] = sorted_user_req[i]['tag']\n",
    "                            counter +=1\n",
    "\n",
    "            elif req_frequency == dum_available[x]['use_frequency']=='M' and req_district == dum_available[x]['district'] and counter == 0 and dum_available[x]['tag'] == None:\n",
    "                if sorted_user_req[i]['units'] <= monthly_layers:\n",
    "                    for len in range(sorted_user_req[i]['units']):\n",
    "                        number = dum_available[x]['name']\n",
    "                        number2 = edge_dict_streetless[number][0]\n",
    "                        dum_available[number2]['type'] = sorted_user_req[i]['type']\n",
    "                        dum_available[number2]['units'] = sorted_user_req[i]['units']\n",
    "                        dum_available[number2]['tag'] = sorted_user_req[i]['tag']\n",
    "                        counter +=1\n",
    "                else:\n",
    "                    for len in range(sorted_user_req[i]['units']):\n",
    "                        if counter < monthly_layers:\n",
    "                            number = dum_available[x]['name']\n",
    "                            number2 = edge_dict[number][0]\n",
    "                            dum_available[number2]['type'] = sorted_user_req[i]['type']\n",
    "                            dum_available[number2]['units'] = sorted_user_req[i]['units']\n",
    "                            dum_available[number2]['tag'] = sorted_user_req[i]['tag']\n",
    "                            counter +=1\n",
    "                        else:\n",
    "                            number = dum_available[x]['name']\n",
    "                            number2 = min(edge_dict[number])\n",
    "                            dum_available[number2]['type'] = sorted_user_req[i]['type']\n",
    "                            dum_available[number2]['units'] = sorted_user_req[i]['units']\n",
    "                            dum_available[number2]['tag'] = sorted_user_req[i]['tag']\n",
    "                            counter +=1\n",
    "                print('added to list', sorted_user_req[i])\n",
    "            else:\n",
    "                pass\n",
    "            \n",
    "# print(occu_nodes)\n",
    "\n",
    "print(dum_available)"
   ]
  },
  {
   "cell_type": "code",
   "execution_count": 32,
   "metadata": {},
   "outputs": [
    {
     "name": "stdout",
     "output_type": "stream",
     "text": [
      "{0: {'name': 0, 'type': None, 'use_frequency': 'D', 'units': None, 'tag': 0, 'floor': 0}, 1: {'name': 1, 'type': 'S', 'use_frequency': 'D', 'units': '3', 'tag': 'Chris', 'floor': 0}, 2: {'name': 2, 'type': 'S', 'use_frequency': 'D', 'units': '3', 'tag': 'Chris', 'floor': 0}, 3: {'name': 3, 'type': 'S', 'use_frequency': 'D', 'units': '3', 'tag': 'Eren', 'floor': 1}, 4: {'name': 4, 'type': 'S', 'use_frequency': 'D', 'units': '3', 'tag': 'Felipe', 'floor': 1}, 5: {'name': 5, 'type': 'S', 'use_frequency': 'D', 'units': '3', 'tag': 1, 'floor': 1}}\n"
     ]
    }
   ],
   "source": [
    "# Defining the walkway at second floor\n",
    "\n",
    "nodes = {\n",
    "    0: {\"name\":0,\"type\":None,\"use_frequency\":\"D\", \"units\":None,\"tag\":0, \"floor\":0},\n",
    "    1: {\"name\":1,\"type\":\"S\",\"use_frequency\":\"D\", \"units\":\"3\",\"tag\":\"Chris\", \"floor\":0},\n",
    "    2: {\"name\":2,\"type\":\"S\",\"use_frequency\":\"D\", \"units\":\"3\",\"tag\":\"Chris\", \"floor\":0},\n",
    "    3: {\"name\":3,\"type\":\"S\",\"use_frequency\":\"D\", \"units\":\"3\",\"tag\":\"Eren\", \"floor\":1},\n",
    "    4: {\"name\":4,\"type\":\"S\",\"use_frequency\":\"D\", \"units\":\"3\",\"tag\":\"Felipe\", \"floor\":1},\n",
    "    5: {\"name\":5,\"type\":\"S\",\"use_frequency\":\"D\", \"units\":\"3\",\"tag\":1, \"floor\":1}\n",
    "}\n",
    "\n",
    "import networkx as nx\n",
    "import copy\n",
    "G = nx.Graph()\n",
    "\n",
    "k = list(nodes.keys())\n",
    "G.add_nodes_from(k)\n",
    "\n",
    "edges= ((nodes[0]['name'],nodes[1]['name']),(nodes[1]['name'],nodes[2]['name']),(nodes[2]['name'],nodes[3]['name']),(nodes[3]['name'],nodes[0]['name']),(nodes[3]['name'],nodes[4]['name']), (nodes[4]['name'],nodes[5]['name']), (nodes[3]['name'],nodes[5]['name']))\n",
    "\n",
    "G.add_edges_from(edges)\n",
    "# nx.draw_networkx(G)\n",
    "\n",
    "edge_dict = {}\n",
    "\n",
    "adj = G.adjacency()\n",
    "\n",
    "def create_edge_dict(graph):\n",
    "    for i, n in G.adjacency():\n",
    "        edge_dict[i] = list(n)\n",
    "    return edge_dict\n",
    "\n",
    "edge_dict = create_edge_dict(G)\n",
    "\n",
    "# Defining the walkway at second floor\n",
    "\n",
    "count = 999\n",
    "\n",
    "# Find the street nodes\n",
    "for s in range(len(nodes)):\n",
    "    if (nodes[s][\"name\"]>count) and ((nodes[s]['tag']==0) or (nodes[s]['tag']==1)) and counter == 0:\n",
    "        numb = nodes[s][\"name\"]\n",
    "        numb_neigh = edge_dict[numb]\n",
    "        # Delete the street nodes\n",
    "        del nodes[s]\n",
    "        # Delete the neightbors of street nodes are also deleted from the available nodes dictionairy\n",
    "        if nodes[(numb_neigh[0])][\"tag\"]!=1 and nodes[(numb_neigh[0])][\"tag\"]!=0:\n",
    "            del nodes[(numb_neigh[0])]\n",
    "        elif nodes[(numb_neigh[1])][\"tag\"]!=1 and nodes[(numb_neigh[1])][\"tag\"]!=0:\n",
    "            del nodes[(numb_neigh[1])]\n",
    "        elif nodes[(numb_neigh[2])][\"tag\"]!=1 and nodes[(numb_neigh[2])][\"tag\"]!=0:\n",
    "            del nodes[(numb_neigh[2])]\n",
    "        elif nodes[(numb_neigh[3])][\"tag\"]!=1 and nodes[(numb_neigh[3])][\"tag\"]!=0:\n",
    "            del nodes[(numb_neigh[3])]\n",
    "        else:\n",
    "            pass\n",
    "\n",
    "print(nodes)\n"
   ]
  }
 ],
 "metadata": {
  "interpreter": {
   "hash": "b3ba2566441a7c06988d0923437866b63cedc61552a5af99d1f4fb67d367b25f"
  },
  "kernelspec": {
   "display_name": "Python 3.8.8 64-bit ('base': conda)",
   "name": "python3"
  },
  "language_info": {
   "codemirror_mode": {
    "name": "ipython",
    "version": 3
   },
   "file_extension": ".py",
   "mimetype": "text/x-python",
   "name": "python",
   "nbconvert_exporter": "python",
   "pygments_lexer": "ipython3",
   "version": "3.8.8"
  },
  "orig_nbformat": 4
 },
 "nbformat": 4,
 "nbformat_minor": 2
}
