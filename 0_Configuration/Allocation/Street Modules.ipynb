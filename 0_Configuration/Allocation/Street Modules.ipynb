{
 "cells": [
  {
   "cell_type": "code",
   "execution_count": 1,
   "metadata": {},
   "outputs": [],
   "source": [
    "#initialisation\n",
    "import networkx as nx\n",
    "import copy"
   ]
  },
  {
   "cell_type": "code",
   "execution_count": 2,
   "metadata": {},
   "outputs": [],
   "source": [
    "#definitions\n",
    "#gives adjacency dictionary\n",
    "edge_dict={}\n",
    "def create_edge_dict(graph):\n",
    "    for i, n in G.adjacency():\n",
    "        # print(\"i is\",i)\n",
    "        # print(\"n is\",n)\n",
    "        edge_dict[i] = list(n)\n",
    "    return edge_dict\n",
    "\n",
    "# gives the parent of the value in a nested dictionary\n",
    "def find_key(d, value):\n",
    "    start_list =[]\n",
    "    for i in value:\n",
    "        # print(\"i is\", i)\n",
    "        for k,v in d.items():\n",
    "            # print(\"k and v is\", k,v)\n",
    "            if v['name'] == i:\n",
    "                # print(\"k is\", k)\n",
    "                start_list.append(i)\n",
    "    return start_list\n",
    "\n",
    "#gives the value of type key of a node\n",
    "def retrieve_type(list):\n",
    "    type_list = []\n",
    "    for i in list:\n",
    "        # print (\"i is\", i)\n",
    "        type = nodes[i]['type']\n",
    "        # print(tag)\n",
    "        type_list.append(type)\n",
    "    return (type_list)"
   ]
  },
  {
   "cell_type": "code",
   "execution_count": 3,
   "metadata": {},
   "outputs": [
    {
     "name": "stdout",
     "output_type": "stream",
     "text": [
      "((0, 1), (0, 2), (0, 3), (0, 4), (1, 4), (1, 2))\n"
     ]
    }
   ],
   "source": [
    "#nodes and edges data\n",
    "nodes = {\n",
    "    0: {\"name\":0,\"type\":None,\"use_frequency\":\"D\", \"units\":None,\"tag\":0, \"floor\":0},\n",
    "    1: {\"name\":1,\"type\":None,\"use_frequency\":\"D\", \"units\":None,\"tag\":0, \"floor\":0},\n",
    "    2: {\"name\":2,\"type\":\"S\",\"use_frequency\":\"D\", \"units\":\"2\",\"tag\":\"Eren\", \"floor\":0},\n",
    "    3: {\"name\":3,\"type\":\"W\",\"use_frequency\":\"D\", \"units\":\"2\",\"tag\":\"Eren\", \"floor\":1},\n",
    "    4: {\"name\":4,\"type\":\"S\",\"use_frequency\":\"D\", \"units\":\"3\",\"tag\":\"Felipe\", \"floor\":1},\n",
    "    5: {\"name\":5,\"type\":\"S\",\"use_frequency\":\"D\", \"units\":\"3\",\"tag\":1, \"floor\":1}\n",
    "}\n",
    "#print (nodes[4]['name'])\n",
    "\n",
    "# edges = ((\"A\",\"B\"),(\"B\",\"C\"),(\"C\",\"D\"),(\"D\",\"A\"))\n",
    "# print(edges)\n",
    "\n",
    "edges= ((nodes[0]['name'],nodes[1]['name']),(nodes[0]['name'],nodes[2]['name']),(nodes[0]['name'],nodes[3]['name']),(nodes[0]['name'],nodes[4]['name']),(nodes[1]['name'],nodes[4]['name']),(nodes[1]['name'],nodes[2]['name']))\n",
    "\n",
    "print (edges)"
   ]
  },
  {
   "cell_type": "code",
   "execution_count": 4,
   "metadata": {},
   "outputs": [
    {
     "name": "stdout",
     "output_type": "stream",
     "text": [
      "{0: [1, 2, 3, 4], 1: [0, 4, 2], 2: [0, 1], 3: [0], 4: [0, 1]}\n"
     ]
    },
    {
     "data": {
      "image/png": "[encoded data removed]",
      "text/plain": [
       "<Figure size 432x288 with 1 Axes>"
      ]
     },
     "metadata": {},
     "output_type": "display_data"
    }
   ],
   "source": [
    "#draw the graph\n",
    "G = nx.Graph()\n",
    "G.add_edges_from(edges)\n",
    "pos = nx.spring_layout(G)\n",
    "\n",
    "nx.draw_networkx(G, pos)\n",
    "\n",
    "#get adjacency dictionary\n",
    "edge_dict = create_edge_dict(G)\n",
    "print(edge_dict)"
   ]
  },
  {
   "cell_type": "code",
   "execution_count": 5,
   "metadata": {},
   "outputs": [
    {
     "name": "stdout",
     "output_type": "stream",
     "text": [
      "[0, 1]\n",
      "{0: [1, 2, 3, 4], 1: [0, 4, 2], 2: [0, 1], 3: [0], 4: [0, 1]}\n"
     ]
    }
   ],
   "source": [
    "#find the local street nodes that have 2 shops next to it\n",
    "covered_street = []\n",
    "for k in range(len(nodes)):\n",
    "    if (nodes[k][\"tag\"] == 0) and (nodes[k][\"use_frequency\"]==\"D\"):\n",
    "       covered_street.append(k) \n",
    "print(covered_street)\n",
    "print(edge_dict)"
   ]
  },
  {
   "cell_type": "code",
   "execution_count": 6,
   "metadata": {},
   "outputs": [
    {
     "name": "stdout",
     "output_type": "stream",
     "text": [
      "{0: [1, 2, 3, 4], 1: [0, 4, 2]}\n"
     ]
    }
   ],
   "source": [
    "# form a dictionary of the street nodes that have connection to shops and \n",
    "# the nodes they are connected to\n",
    "edge_dict_copy=edge_dict.copy()\n",
    "x=[]\n",
    "for k in covered_street:\n",
    "    # print(\"k is\",k)\n",
    "    for i in edge_dict_copy:\n",
    "        # print(\"i is\",i)\n",
    "        # print(\"k is\",k)\n",
    "        if k==i:\n",
    "            x.append(i)\n",
    "\n",
    "street_dict={}\n",
    "for k in edge_dict_copy:\n",
    "    # print(k)\n",
    "    # print(dict_1)\n",
    "    # print(y)\n",
    "    for i in x:\n",
    "        # print(i)\n",
    "        if k==i:\n",
    "            street_dict[k]=edge_dict_copy[k]\n",
    "            # print(\"xxx\")\n",
    "print(street_dict)"
   ]
  },
  {
   "cell_type": "code",
   "execution_count": 7,
   "metadata": {},
   "outputs": [
    {
     "data": {
      "text/plain": [
       "{0: {'name': 0,\n",
       "  'type': None,\n",
       "  'use_frequency': 'D',\n",
       "  'units': None,\n",
       "  'tag': 0,\n",
       "  'floor': 0,\n",
       "  'module': 6},\n",
       " 1: {'name': 1,\n",
       "  'type': None,\n",
       "  'use_frequency': 'D',\n",
       "  'units': None,\n",
       "  'tag': 0,\n",
       "  'floor': 0,\n",
       "  'module': 6},\n",
       " 2: {'name': 2,\n",
       "  'type': 'S',\n",
       "  'use_frequency': 'D',\n",
       "  'units': '2',\n",
       "  'tag': 'Eren',\n",
       "  'floor': 0},\n",
       " 3: {'name': 3,\n",
       "  'type': 'W',\n",
       "  'use_frequency': 'D',\n",
       "  'units': '2',\n",
       "  'tag': 'Eren',\n",
       "  'floor': 1},\n",
       " 4: {'name': 4,\n",
       "  'type': 'S',\n",
       "  'use_frequency': 'D',\n",
       "  'units': '3',\n",
       "  'tag': 'Felipe',\n",
       "  'floor': 1},\n",
       " 5: {'name': 5,\n",
       "  'type': 'S',\n",
       "  'use_frequency': 'D',\n",
       "  'units': '3',\n",
       "  'tag': 1,\n",
       "  'floor': 1}}"
      ]
     },
     "execution_count": 7,
     "metadata": {},
     "output_type": "execute_result"
    }
   ],
   "source": [
    "# assign module type to the nodes which have shops on the sides\n",
    "for k in street_dict:\n",
    "    for i in street_dict[k]:\n",
    "        # print(i)\n",
    "        if (nodes[i][\"type\"]==nodes[(i)][\"type\"]) and (nodes[i][\"type\"]==\"S\"):\n",
    "            nodes[k][\"module\"] = 6   \n",
    "nodes  "
   ]
  },
  {
   "cell_type": "code",
   "execution_count": 8,
   "metadata": {},
   "outputs": [
    {
     "name": "stdout",
     "output_type": "stream",
     "text": [
      "1\n"
     ]
    }
   ],
   "source": [
    "# find corner stones = where shop-street-shop starts\n",
    "for k in street_dict:\n",
    "    for i in street_dict[k]:\n",
    "        for n in edge_dict:\n",
    "            for m in edge_dict[n]:\n",
    "                if (i == n) and (nodes[m][\"type\"]==\"W\"):\n",
    "                    workshop_shop=[i]    \n",
    "# print(workshop_shop)\n",
    "\n",
    "for k in street_dict:\n",
    "    for i in street_dict[k]:\n",
    "        for n in workshop_shop:\n",
    "            if n == i:\n",
    "                corner_stone=k\n",
    "print(corner_stone)"
   ]
  },
  {
   "cell_type": "code",
   "execution_count": null,
   "metadata": {},
   "outputs": [],
   "source": []
  },
  {
   "cell_type": "code",
   "execution_count": null,
   "metadata": {},
   "outputs": [],
   "source": [
    "\n"
   ]
  },
  {
   "cell_type": "code",
   "execution_count": null,
   "metadata": {},
   "outputs": [],
   "source": []
  },
  {
   "cell_type": "code",
   "execution_count": null,
   "metadata": {},
   "outputs": [],
   "source": []
  },
  {
   "cell_type": "code",
   "execution_count": null,
   "metadata": {},
   "outputs": [],
   "source": []
  }
 ],
 "metadata": {
  "interpreter": {
   "hash": "ceab667343e9d59e560dc535b596d8ce99779dfe6a9fc32021184bc08a53fa46"
  },
  "kernelspec": {
   "display_name": "Python 3.8.5 64-bit ('earthy': conda)",
   "name": "python3"
  },
  "language_info": {
   "codemirror_mode": {
    "name": "ipython",
    "version": 3
   },
   "file_extension": ".py",
   "mimetype": "text/x-python",
   "name": "python",
   "nbconvert_exporter": "python",
   "pygments_lexer": "ipython3",
   "version": "3.8.5"
  },
  "orig_nbformat": 4
 },
 "nbformat": 4,
 "nbformat_minor": 2
}
