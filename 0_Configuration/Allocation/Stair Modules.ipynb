{
 "cells": [
  {
   "cell_type": "code",
   "execution_count": 80,
   "metadata": {},
   "outputs": [],
   "source": [
    "import networkx as nx"
   ]
  },
  {
   "cell_type": "code",
   "execution_count": 81,
   "metadata": {},
   "outputs": [],
   "source": [
    "#definitions\n",
    "#gives adjacency dictionary\n",
    "edge_dict={}\n",
    "def create_edge_dict(graph):\n",
    "    for i, n in G.adjacency():\n",
    "        # print(\"i is\",i)\n",
    "        # print(\"n is\",n)\n",
    "        edge_dict[i] = list(n)\n",
    "    return edge_dict\n",
    "\n",
    "# gives the parent of the value in a nested dictionary\n",
    "def find_key(d, value):\n",
    "    start_list =[]\n",
    "    for i in value:\n",
    "        # print(\"i is\", i)\n",
    "        for k,v in d.items():\n",
    "            # print(\"k and v is\", k,v)\n",
    "            if v['name'] == i:\n",
    "                # print(\"k is\", k)\n",
    "                start_list.append(i)\n",
    "    return start_list\n",
    "\n",
    "#gives the value of type key of a node\n",
    "def retrieve_type(list):\n",
    "    type_list = []\n",
    "    for i in list:\n",
    "        # print (\"i is\", i)\n",
    "        type = nodes[i]['type']\n",
    "        # print(tag)\n",
    "        type_list.append(type)\n",
    "    return (type_list)"
   ]
  },
  {
   "cell_type": "code",
   "execution_count": 82,
   "metadata": {},
   "outputs": [],
   "source": [
    "nodes={ 80: {\"tag\": 1, \"units\": None, \"name\": 80, \"use_frequency\": \"M\", \"type\": None}, \n",
    "        81: {\"tag\": 1, \"units\": None, \"name\": 81, \"use_frequency\": \"M\", \"type\": None},\n",
    "        84: {\"tag\": 3, \"units\": None, \"name\": 84, \"use_frequency\": \"M\", \"type\": None}, \n",
    "        85: {\"tag\": 3, \"units\": None, \"name\": 85, \"use_frequency\": \"D\", \"type\": None}, \n",
    "        86: {\"tag\": None, \"units\": None},\n",
    "        99: {\"tag\": None, \"units\": None, \"name\": 99, \"use_frequency\": \"M\", \"type\": None},\n",
    "        119: {\"tag\": None, \"units\": None, \"name\": 119, \"use_frequency\": \"M\", \"type\": None},\n",
    "        141: {\"tag\": None, \"units\": None, \"name\": 141, \"use_frequency\": \"M\", \"type\": None},\n",
    "        172: {\"tag\": None, \"units\": None, \"name\": 172, \"use_frequency\": \"M\", \"type\": None},\n",
    "        180: {\"tag\": None, \"units\": None, \"name\": 180, \"use_frequency\": \"D\", \"type\": None},\n",
    "        117: {\"tag\": None, \"units\": None,\"name\": 117, \"use_frequency\": \"D\", \"type\": None}, \n",
    "        122: {\"tag\": None, \"units\": None, \"name\": 122, \"use_frequency\": \"M\", \"type\": None},\n",
    "        123: {\"tag\": None, \"units\": None, \"name\": 123, \"use_frequency\": \"D\", \"type\": None}\n",
    "        }\n",
    "edges = [[81,84],[84,99],[84,122],[99,119],[119,141],[141,172],[81,80],[80,85],[85,123],[85,180],[180,117],[81,122],[123,80]]"
   ]
  },
  {
   "cell_type": "code",
   "execution_count": 83,
   "metadata": {},
   "outputs": [
    {
     "name": "stdout",
     "output_type": "stream",
     "text": [
      "{81: [84, 80, 122], 84: [81, 99, 122], 99: [84, 119], 122: [84, 81], 119: [99, 141], 141: [119, 172], 172: [141], 80: [81, 85, 123], 85: [80, 123, 180], 123: [85, 80], 180: [85, 117], 117: [180]}\n"
     ]
    },
    {
     "data": {
      "image/png": "[encoded data removed]",
      "text/plain": [
       "<Figure size 432x288 with 1 Axes>"
      ]
     },
     "metadata": {},
     "output_type": "display_data"
    }
   ],
   "source": [
    "#draw the graph\n",
    "G = nx.Graph()\n",
    "G.add_edges_from(edges)\n",
    "pos = nx.spring_layout(G)\n",
    "\n",
    "nx.draw_networkx(G, pos)\n",
    "\n",
    "#get adjacency dictionary\n",
    "edge_dict = create_edge_dict(G)\n",
    "print(edge_dict)"
   ]
  },
  {
   "cell_type": "code",
   "execution_count": 84,
   "metadata": {},
   "outputs": [
    {
     "name": "stdout",
     "output_type": "stream",
     "text": [
      "[84, 85]\n"
     ]
    }
   ],
   "source": [
    "# find stair nodes\n",
    "stair_nodes=[]\n",
    "for i in nodes:\n",
    "        if nodes[i][\"tag\"]==3:\n",
    "            stair_nodes.append(i)\n",
    "print(stair_nodes)"
   ]
  },
  {
   "cell_type": "code",
   "execution_count": 85,
   "metadata": {},
   "outputs": [
    {
     "name": "stdout",
     "output_type": "stream",
     "text": [
      "[80, 81]\n"
     ]
    }
   ],
   "source": [
    "# find street nodes\n",
    "street_nodes=[]\n",
    "for i in nodes:\n",
    "    if nodes[i][\"tag\"]==1:\n",
    "        street_nodes.append(i)\n",
    "print(street_nodes)"
   ]
  },
  {
   "cell_type": "code",
   "execution_count": 86,
   "metadata": {},
   "outputs": [
    {
     "data": {
      "image/png": "[encoded data removed]",
      "text/plain": [
       "<Figure size 432x288 with 1 Axes>"
      ]
     },
     "metadata": {},
     "output_type": "display_data"
    }
   ],
   "source": [
    "for i in street_nodes:\n",
    "    node=i\n",
    "    radius=5\n",
    "stair_radius = nx.generators.ego_graph(G, node, radius=radius)\n",
    "nx.draw_networkx(stair_radius)"
   ]
  },
  {
   "cell_type": "code",
   "execution_count": 87,
   "metadata": {},
   "outputs": [
    {
     "name": "stdout",
     "output_type": "stream",
     "text": [
      "[81, 84, 99, 122, 119, 141, 172, 80, 85, 123, 180, 117]\n"
     ]
    }
   ],
   "source": [
    "# get nodes to occupy from the graph\n",
    "stair_nodes=list(stair_radius.nodes)\n",
    "print(stair_nodes)"
   ]
  },
  {
   "cell_type": "code",
   "execution_count": 88,
   "metadata": {},
   "outputs": [
    {
     "data": {
      "text/plain": [
       "[84, 99, 122, 119, 141, 172, 85, 123, 180, 117]"
      ]
     },
     "execution_count": 88,
     "metadata": {},
     "output_type": "execute_result"
    }
   ],
   "source": [
    "# remove street nodes\n",
    "for k in stair_nodes:\n",
    "    for i in street_nodes:\n",
    "        if i == k:\n",
    "            stair_nodes.remove(k)\n",
    "stair_nodes"
   ]
  },
  {
   "cell_type": "code",
   "execution_count": 89,
   "metadata": {},
   "outputs": [
    {
     "data": {
      "text/plain": [
       "[99, 119, 141, 172, 123, 180, 117]"
      ]
     },
     "execution_count": 89,
     "metadata": {},
     "output_type": "execute_result"
    }
   ],
   "source": [
    "# remove street neighboring nodes from neighboring nodes\n",
    "for i in stair_nodes:\n",
    "    for k in street_nodes:\n",
    "        for j in edge_dict[k]:\n",
    "            if j==i:\n",
    "                # print(i)\n",
    "                stair_nodes.remove(i)\n",
    "stair_nodes"
   ]
  },
  {
   "cell_type": "code",
   "execution_count": 90,
   "metadata": {},
   "outputs": [],
   "source": [
    "# add \"tag\" attribute to nodes\n",
    "for i in stair_nodes:\n",
    "    nodes[i][\"tag\"]=3"
   ]
  },
  {
   "cell_type": "code",
   "execution_count": 91,
   "metadata": {},
   "outputs": [
    {
     "data": {
      "text/plain": [
       "{80: {'tag': 1, 'units': None, 'name': 80, 'use_frequency': 'M', 'type': None},\n",
       " 81: {'tag': 1, 'units': None, 'name': 81, 'use_frequency': 'M', 'type': None},\n",
       " 84: {'tag': 3, 'units': None, 'name': 84, 'use_frequency': 'M', 'type': None},\n",
       " 85: {'tag': 3, 'units': None, 'name': 85, 'use_frequency': 'D', 'type': None},\n",
       " 86: {'tag': None, 'units': None},\n",
       " 99: {'tag': 3, 'units': None, 'name': 99, 'use_frequency': 'M', 'type': None},\n",
       " 119: {'tag': 3,\n",
       "  'units': None,\n",
       "  'name': 119,\n",
       "  'use_frequency': 'M',\n",
       "  'type': None},\n",
       " 141: {'tag': 3,\n",
       "  'units': None,\n",
       "  'name': 141,\n",
       "  'use_frequency': 'M',\n",
       "  'type': None},\n",
       " 172: {'tag': 3,\n",
       "  'units': None,\n",
       "  'name': 172,\n",
       "  'use_frequency': 'M',\n",
       "  'type': None},\n",
       " 180: {'tag': 3,\n",
       "  'units': None,\n",
       "  'name': 180,\n",
       "  'use_frequency': 'D',\n",
       "  'type': None},\n",
       " 117: {'tag': 3,\n",
       "  'units': None,\n",
       "  'name': 117,\n",
       "  'use_frequency': 'D',\n",
       "  'type': None},\n",
       " 122: {'tag': None,\n",
       "  'units': None,\n",
       "  'name': 122,\n",
       "  'use_frequency': 'M',\n",
       "  'type': None},\n",
       " 123: {'tag': 3,\n",
       "  'units': None,\n",
       "  'name': 123,\n",
       "  'use_frequency': 'D',\n",
       "  'type': None}}"
      ]
     },
     "execution_count": 91,
     "metadata": {},
     "output_type": "execute_result"
    }
   ],
   "source": [
    "nodes"
   ]
  },
  {
   "cell_type": "code",
   "execution_count": null,
   "metadata": {},
   "outputs": [],
   "source": []
  }
 ],
 "metadata": {
  "interpreter": {
   "hash": "ceab667343e9d59e560dc535b596d8ce99779dfe6a9fc32021184bc08a53fa46"
  },
  "kernelspec": {
   "display_name": "Python 3.8.5 64-bit ('earthy': conda)",
   "name": "python3"
  },
  "language_info": {
   "codemirror_mode": {
    "name": "ipython",
    "version": 3
   },
   "file_extension": ".py",
   "mimetype": "text/x-python",
   "name": "python",
   "nbconvert_exporter": "python",
   "pygments_lexer": "ipython3",
   "version": "3.8.5"
  },
  "orig_nbformat": 4
 },
 "nbformat": 4,
 "nbformat_minor": 2
}
