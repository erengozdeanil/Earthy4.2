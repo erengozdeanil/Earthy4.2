{
 "cells": [
  {
   "cell_type": "code",
   "execution_count": null,
   "metadata": {},
   "outputs": [],
   "source": [
    "#initialisation\n",
    "import networkx as nx"
   ]
  },
  {
   "cell_type": "code",
   "execution_count": null,
   "metadata": {},
   "outputs": [],
   "source": [
    "#definitions\n",
    "#gives adjacency dictionary\n",
    "edge_dict={}\n",
    "def create_edge_dict(graph):\n",
    "    for i, n in G.adjacency():\n",
    "        print(\"i is\",i)\n",
    "        print(\"n is\",n)\n",
    "        edge_dict[i] = list(n)\n",
    "    return edge_dict\n",
    "\n",
    "# gives the parent of the value in a nested dictionary\n",
    "def find_key(d, value):\n",
    "    start_list =[]\n",
    "    for i in value:\n",
    "        print(\"i is\", i)\n",
    "        for k,v in d.items():\n",
    "            print(\"k and v is\", k,v)\n",
    "            if v['name'] == i:\n",
    "                print(\"k is\", k)\n",
    "                start_list.append(i)\n",
    "    return start_list\n",
    "\n",
    "#gives the value of tag key of a node\n",
    "def retrieve_tag(list):\n",
    "    tag_list = []\n",
    "    for i in list:\n",
    "        print (\"i is\", i)\n",
    "        tag = nodes[i]['tag']\n",
    "        print(tag)\n",
    "        tag_list.append(tag)\n",
    "    return (tag_list)"
   ]
  },
  {
   "cell_type": "code",
   "execution_count": null,
   "metadata": {},
   "outputs": [],
   "source": [
    "#nodes and edges data\n",
    "nodes = {\n",
    "    0: {\"name\":0,\"type\":None,\"use_frequency\":\"D\", \"units\":None,\"tag\":0, \"floor\":0},\n",
    "    1: {\"name\":1,\"type\":\"S\",\"use_frequency\":\"D\", \"units\":\"3\",\"tag\":\"Chris\", \"floor\":0},\n",
    "    2: {\"name\":2,\"type\":\"S\",\"use_frequency\":\"D\", \"units\":\"3\",\"tag\":\"Chris\", \"floor\":0},\n",
    "    3: {\"name\":3,\"type\":\"S\",\"use_frequency\":\"D\", \"units\":\"3\",\"tag\":\"Eren\", \"floor\":1},\n",
    "    4: {\"name\":4,\"type\":\"S\",\"use_frequency\":\"D\", \"units\":\"3\",\"tag\":\"Felipe\", \"floor\":1},\n",
    "    5: {\"name\":5,\"type\":\"S\",\"use_frequency\":\"D\", \"units\":\"3\",\"tag\":1, \"floor\":1}\n",
    "}\n",
    "#print (nodes[4]['name'])\n",
    "\n",
    "# edges = ((\"A\",\"B\"),(\"B\",\"C\"),(\"C\",\"D\"),(\"D\",\"A\"))\n",
    "# print(edges)\n",
    "\n",
    "edges= ((nodes[0]['name'],nodes[1]['name']),(nodes[0]['name'],nodes[2]['name']),(nodes[0]['name'],nodes[3]['name']),(nodes[0]['name'],nodes[4]['name']),(nodes[3]['name'],nodes[4]['name']))\n",
    "\n",
    "print (edges)"
   ]
  },
  {
   "cell_type": "code",
   "execution_count": null,
   "metadata": {},
   "outputs": [],
   "source": [
    "#draw the graph\n",
    "G = nx.Graph()\n",
    "G.add_edges_from(edges)\n",
    "pos = nx.spring_layout(G)\n",
    "\n",
    "nx.draw_networkx(G, pos)\n",
    "\n",
    "#get adjacency dictionary\n",
    "edge_dict = create_edge_dict(G)\n",
    "print(edge_dict)"
   ]
  },
  {
   "cell_type": "code",
   "execution_count": null,
   "metadata": {},
   "outputs": [],
   "source": [
    "#find start and end nodes of edges\n",
    "start_point, end_point = zip(*edges)\n",
    "start = list (start_point)\n",
    "end = list (end_point)\n",
    "print(start)\n",
    "print (end)"
   ]
  },
  {
   "cell_type": "code",
   "execution_count": null,
   "metadata": {},
   "outputs": [],
   "source": [
    "#find start and end point of each edge\n",
    "parent_start = (find_key(nodes, start))\n",
    "parent_end = (find_key(nodes,end))\n",
    "print (parent_start)\n",
    "print (parent_end)"
   ]
  },
  {
   "cell_type": "code",
   "execution_count": null,
   "metadata": {},
   "outputs": [],
   "source": [
    "#Get the value /'tag'/ in dictionary by nodes' dictionarys parent\n",
    "start_tag = retrieve_tag (parent_start)\n",
    "end_tag = retrieve_tag (parent_end)\n",
    "print(start_tag)\n",
    "print(end_tag)\n",
    "node_tag = []\n",
    "node_tag.append(start_tag)\n",
    "node_tag.append(end_tag)\n",
    "print (node_tag)"
   ]
  },
  {
   "cell_type": "code",
   "execution_count": null,
   "metadata": {},
   "outputs": [],
   "source": [
    "#Compare the tags of start and end nodes of edges\n",
    "#Gives the edge condition wheter there is a wall or it is open : closed (1) or open (0)\n",
    "edge_oc_list = []\n",
    "for i in range (len (node_tag[0]) ):\n",
    "    item1 = node_tag[0][i]\n",
    "    item2 = node_tag[1][i]\n",
    "    # print (\"item 1 is\" + item1)\n",
    "    # print (item2)\n",
    "    # first_item.append(item1)\n",
    "    # last_item.append(item2)\n",
    "    if item1 == item2:\n",
    "        edge_oc = (0)\n",
    "        edge_oc_list.append(edge_oc)\n",
    "    elif (item1 == 0) or (item2 == 0) :\n",
    "        edge_oc_street =(0)\n",
    "        edge_oc_list.append(edge_oc_street)\n",
    "    elif (item1 == 1) or (item2 == 1) :\n",
    "        edge_oc_none =(1)\n",
    "        edge_oc_list.append(edge_oc_none)\n",
    "    else:\n",
    "        edge_oc_closed = (1)\n",
    "        edge_oc_list.append(edge_oc_closed)\n",
    "edge_oc_list\n",
    "copy_edge_oc_list=edge_oc_list\n",
    "print(edge_oc_list)"
   ]
  },
  {
   "cell_type": "code",
   "execution_count": null,
   "metadata": {},
   "outputs": [],
   "source": [
    "#create a dictionary of nodes and the connection(open or closed) that node has\n",
    "edge_list = list (edges)\n",
    "edge_dict_connection={}\n",
    "for k in range(len(nodes)):\n",
    "       edge_dict_connection[k]=[]\n",
    "       for i in range(len(edge_list)):\n",
    "              if k == edge_list[i][0]:\n",
    "                     edge_dict_connection[k].append(edge_oc_list[i])\n",
    "print(edge_dict_connection)"
   ]
  },
  {
   "cell_type": "code",
   "execution_count": null,
   "metadata": {},
   "outputs": [],
   "source": [
    "# #adds the connection data (eg:[0,0,0,0]) to nodes dictionary\n",
    "# #nodes is a dictionary\n",
    "edge_list = list (edges)\n",
    "for k in range(len(nodes)):\n",
    "       nodes[k][\"connection\"]=[]\n",
    "       for i in range(len(edge_list)):\n",
    "              # print(\"i is\", i)\n",
    "              if k == edge_list[i][0]:\n",
    "                     # print(\"k is\", edge_list[i][0])\n",
    "                     nodes[k][\"connection\"].append(edge_oc_list[i])\n",
    "                     # print(edge_oc_list[i], \"is appended\")\n",
    "print(nodes)"
   ]
  },
  {
   "cell_type": "code",
   "execution_count": null,
   "metadata": {},
   "outputs": [],
   "source": [
    "#create a list of types having the info of connections and floor(1 story or 2 story)\n",
    "# Type1 = [0,0,0,0],[0]\n",
    "# Type2 = [0,1,0,0],[0]\n",
    "# Type3 = [0,1,0,1],[0]\n",
    "# Type4 = [0,0,1,1],[0]\n",
    "# Type5 = [0,1,1,1],[0]\n",
    "# Type11 = [0,0,0,0],[1]\n",
    "# Type22 = [0,1,0,0],[1]\n",
    "# Type33 = [0,1,0,1],[1]\n",
    "# Type44 = [0,0,1,1],[1]\n",
    "# Type55 = [0,1,1,1],[1]\n",
    "\n",
    "#connection conditions\n",
    "C1 = nodes[i][\"connection\"]==[0,0,0,0]\n",
    "C2 = (nodes[i][\"connection\"]==[0,1,0,0]) or (nodes[i][\"connection\"]==[0,0,1,0]) or (nodes[i][\"connection\"]==[0,0,0,1]) or (nodes[i][\"connection\"]==[1,0,0,0])\n",
    "C3 = (nodes[i][\"connection\"]==[0,0,1,1]) or (nodes[i][\"connection\"]==[0,1,1,0]) or (nodes[i][\"connection\"]==[1,1,0,0]) or (nodes[i][\"connection\"]==[1,0,0,1])\n",
    "C4 = (nodes[i][\"connection\"]==[0,1,1,1]) or (nodes[i][\"connection\"]==[1,1,1,0]) or (nodes[i][\"connection\"]==[1,1,0,1]) or (nodes[i][\"connection\"]==[1,0,1,1])\n",
    "C5 = (nodes[i][\"connection\"]==[0,1,0,1] or (nodes[i][\"connection\"]==[1,0,1,0]))\n",
    "\n",
    "#floor conditions\n",
    "F1 = (nodes[i][\"floor\"]==0)\n",
    "F2 = (nodes[i][\"floor\"]==1)"
   ]
  },
  {
   "cell_type": "code",
   "execution_count": null,
   "metadata": {},
   "outputs": [],
   "source": [
    "#assigns module types to nodes according to connections\n",
    "for k in nodes:\n",
    "    for i in nodes:\n",
    "        nodes[i][\"module\"]=[]\n",
    "        if (C1) and (F1):\n",
    "            nodes[i][\"module\"] = 1\n",
    "        elif (C2) and (F1):\n",
    "            nodes[i][\"module\"] = 2\n",
    "        elif (C3)  and (F1):\n",
    "            nodes[i][\"module\"] = 3\n",
    "        elif (C4) and (F1):\n",
    "            nodes[i][\"module\"] = 4\n",
    "        elif (C5) and (F1):\n",
    "            nodes[i][\"module\"] = 5\n",
    "        elif (C1) and (F2):\n",
    "            nodes[i][\"module\"] = 11\n",
    "        elif (C2) and (F2):\n",
    "            nodes[i][\"module\"] = 22\n",
    "        elif (C3) and (F2):\n",
    "            nodes[i][\"module\"] = 33\n",
    "        elif (C4) and (F2):\n",
    "            nodes[i][\"module\"] = 44\n",
    "        elif (C5) and (F2):\n",
    "            nodes[i][\"module\"] = 55\n",
    "        \n",
    "            nodes[i][\"module\"] = []"
   ]
  },
  {
   "cell_type": "code",
   "execution_count": null,
   "metadata": {},
   "outputs": [],
   "source": [
    "nodes"
   ]
  },
  {
   "cell_type": "code",
   "execution_count": null,
   "metadata": {},
   "outputs": [],
   "source": []
  }
 ],
 "metadata": {
  "interpreter": {
   "hash": "ceab667343e9d59e560dc535b596d8ce99779dfe6a9fc32021184bc08a53fa46"
  },
  "kernelspec": {
   "display_name": "Python 3.8.5 64-bit ('earthy': conda)",
   "name": "python3"
  },
  "language_info": {
   "codemirror_mode": {
    "name": "ipython",
    "version": 3
   },
   "file_extension": ".py",
   "mimetype": "text/x-python",
   "name": "python",
   "nbconvert_exporter": "python",
   "pygments_lexer": "ipython3",
   "version": "3.8.5"
  },
  "orig_nbformat": 4
 },
 "nbformat": 4,
 "nbformat_minor": 2
}
